{
 "cells": [
  {
   "cell_type": "code",
   "execution_count": 3,
   "metadata": {},
   "outputs": [
    {
     "name": "stderr",
     "output_type": "stream",
     "text": [
      "/Users/seungwoo/anaconda3/envs/transformer/lib/python3.12/site-packages/timm/models/_factory.py:117: UserWarning: Mapping deprecated model name vit_base_resnet50_384 to current vit_base_r50_s16_384.orig_in21k_ft_in1k.\n",
      "  model = create_fn(\n"
     ]
    },
    {
     "name": "stdout",
     "output_type": "stream",
     "text": [
      "Dataset/Training/image/SN10_Forest_IMAGE Done.\n",
      "Dataset/Training/image/SN10_Forest_SH Done.\n",
      "Dataset/Training/label/SN10_Forest_Carbon Done.\n",
      "Dataset/Training/label/SN10_Forest_GT Done.\n",
      "GT 예측 torch.Size([2, 4, 256, 256]) GT: torch.Size([2, 256, 256])\n",
      "Carbon Pred torch.Size([2, 1, 256, 256]) Carbon: torch.Size([2, 256, 256])\n",
      "GT Loss tensor(1.3423)\n",
      "carbon Loss tensor(1.0184)\n",
      "평가지표 GT 예측 torch.Size([2, 256, 256]) GT: torch.Size([2, 256, 256])\n",
      "평가지표 Carbon Pred torch.Size([2, 256, 256]) Carbon: torch.Size([2, 256, 256])\n",
      "miou: tensor(0.0765)\n",
      "corr: nan\n",
      "r2: -3.5283539342746937\n"
     ]
    },
    {
     "name": "stderr",
     "output_type": "stream",
     "text": [
      "/Users/seungwoo/anaconda3/envs/transformer/lib/python3.12/site-packages/numpy/lib/function_base.py:2897: RuntimeWarning: invalid value encountered in divide\n",
      "  c /= stddev[:, None]\n",
      "/Users/seungwoo/anaconda3/envs/transformer/lib/python3.12/site-packages/numpy/lib/function_base.py:2898: RuntimeWarning: invalid value encountered in divide\n",
      "  c /= stddev[None, :]\n",
      "/Users/seungwoo/anaconda3/envs/transformer/lib/python3.12/site-packages/lightning/pytorch/core/module.py:436: You are trying to `self.log()` but the `self.trainer` reference is not registered on the model yet. This is most likely because the model hasn't been passed to the `Trainer`\n"
     ]
    }
   ],
   "source": [
    "import torch\n",
    "import torch.nn as nn\n",
    "from models.dpt import DPTSegmentationWithCarbon\n",
    "from dataset import CarbonDataset\n",
    "from torch.utils.data import DataLoader\n",
    "from torchvision import transforms\n",
    "\n",
    "kwargs = {\n",
    "    \"num_classes\": 4,\n",
    "}\n",
    "\n",
    "model = DPTSegmentationWithCarbon(**kwargs)\n",
    "path = \"Dataset/Training/image/SN10_Forest_IMAGE\"\n",
    "transform = transforms.Compose([transforms.Resize((256, 256)), transforms.ToTensor()])\n",
    "data_loader = DataLoader(CarbonDataset(path,transform, mode = \"Train\"), batch_size=2, shuffle=True)\n",
    "batch = data_loader.__iter__().__next__()\n",
    "loss = model.validation_step(batch)\n"
   ]
  }
 ],
 "metadata": {
  "kernelspec": {
   "display_name": "transformer",
   "language": "python",
   "name": "python3"
  },
  "language_info": {
   "codemirror_mode": {
    "name": "ipython",
    "version": 3
   },
   "file_extension": ".py",
   "mimetype": "text/x-python",
   "name": "python",
   "nbconvert_exporter": "python",
   "pygments_lexer": "ipython3",
   "version": "3.12.2"
  }
 },
 "nbformat": 4,
 "nbformat_minor": 2
}
