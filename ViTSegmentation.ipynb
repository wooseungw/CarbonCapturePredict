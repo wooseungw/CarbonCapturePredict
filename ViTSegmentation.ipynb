{
 "cells": [
  {
   "cell_type": "code",
   "execution_count": 15,
   "metadata": {},
   "outputs": [
    {
     "name": "stdout",
     "output_type": "stream",
     "text": [
      "cuda:0\n"
     ]
    }
   ],
   "source": [
    "import torch\n",
    "import torch.nn as nn\n",
    "import os\n",
    "import cv2\n",
    "import torch\n",
    "from torch.utils.data import DataLoader\n",
    "from torchvision import transforms\n",
    "import sys\n",
    "def bytes_to_mb(bytes):\n",
    "    \"\"\"바이트를 메가바이트로 변환합니다.\"\"\"\n",
    "    return bytes / (1024 ** 2)\n",
    "\n",
    "import torchvision.models as models\n",
    "\n",
    "device = torch.device('cuda:0') if torch.cuda.is_available() else torch.device('cpu')\n",
    "print(device)"
   ]
  },
  {
   "cell_type": "code",
   "execution_count": 17,
   "metadata": {},
   "outputs": [
    {
     "name": "stdout",
     "output_type": "stream",
     "text": [
      "Dataset/Training/image/SN10_Forest_IMAGE Done.\n",
      "Dataset/Training/image/SN10_Forest_SH Done.\n",
      "Dataset/Training/label/SN10_Forest_Carbon Done.\n",
      "Dataset/Training/label/SN10_Forest_GT Done.\n",
      "8.392333984375e-05 MB\n"
     ]
    }
   ],
   "source": [
    "from dataset import CustomImageDataset, get_image_paths\n",
    "transform = transforms.Compose([\n",
    "    transforms.ToTensor(),\n",
    "    transforms.Resize((256, 256), antialias=False),\n",
    "])\n",
    "folder_paths = 'Dataset/Training/image/SN10_Forest_IMAGE'\n",
    "\n",
    "dataset = CustomImageDataset(folder_path = folder_paths, transform=transform, mode=\"Train\")\n",
    "data_loader = DataLoader(dataset, batch_size=100, shuffle=True)\n",
    "\n",
    "# DataLoader에서 첫 번째 배치 불러오기\n",
    "first_batch = next(iter(data_loader))\n",
    "\n",
    "print(bytes_to_mb(sys.getsizeof(first_batch)),\"MB\")\n",
    "# first_batch는 이제 데이터셋의 첫 번째 배치를 포함합니다.\n",
    "# 예를 들어, 이미지와 라벨이 포함된 데이터셋의 경우:\n",
    "images, sh, carbon, gt = first_batch\n"
   ]
  },
  {
   "cell_type": "code",
   "execution_count": 21,
   "metadata": {},
   "outputs": [
    {
     "name": "stdout",
     "output_type": "stream",
     "text": [
      "SegformerFeatureExtractor {\n",
      "  \"do_normalize\": true,\n",
      "  \"do_reduce_labels\": false,\n",
      "  \"do_rescale\": true,\n",
      "  \"do_resize\": true,\n",
      "  \"feature_extractor_type\": \"SegformerFeatureExtractor\",\n",
      "  \"image_mean\": [\n",
      "    0.485,\n",
      "    0.456,\n",
      "    0.406\n",
      "  ],\n",
      "  \"image_processor_type\": \"SegformerFeatureExtractor\",\n",
      "  \"image_std\": [\n",
      "    0.229,\n",
      "    0.224,\n",
      "    0.225\n",
      "  ],\n",
      "  \"resample\": 2,\n",
      "  \"rescale_factor\": 0.00392156862745098,\n",
      "  \"size\": {\n",
      "    \"height\": 512,\n",
      "    \"width\": 512\n",
      "  }\n",
      "}\n",
      "\n"
     ]
    }
   ],
   "source": [
    "from transformers import SegformerFeatureExtractor\n",
    "\n",
    "feature_extractor = SegformerFeatureExtractor.from_pretrained(\"nvidia/mit-b2\")\n",
    "print(feature_extractor)\n",
    "\n",
    "\n",
    "\n"
   ]
  }
 ],
 "metadata": {
  "kernelspec": {
   "display_name": "transformer",
   "language": "python",
   "name": "python3"
  },
  "language_info": {
   "codemirror_mode": {
    "name": "ipython",
    "version": 3
   },
   "file_extension": ".py",
   "mimetype": "text/x-python",
   "name": "python",
   "nbconvert_exporter": "python",
   "pygments_lexer": "ipython3",
   "version": "3.11.4"
  }
 },
 "nbformat": 4,
 "nbformat_minor": 2
}
