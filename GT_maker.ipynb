{
 "cells": [
  {
   "cell_type": "code",
   "execution_count": 1,
   "metadata": {},
   "outputs": [
    {
     "name": "stdout",
     "output_type": "stream",
     "text": [
      "   ANN_CD ANN_NM        F_AREA  \\\n",
      "0     140    활엽수  6.842632e+03   \n",
      "1     140    활엽수  7.659524e+03   \n",
      "2     140    활엽수  1.479724e+04   \n",
      "3     140    활엽수  7.381741e+06   \n",
      "4     140    활엽수  7.381741e+06   \n",
      "\n",
      "                                            geometry  \n",
      "0  POLYGON ((216245.458 615321.718, 216225.433 61...  \n",
      "1  POLYGON ((218077.280 616906.793, 218063.025 61...  \n",
      "2  POLYGON ((218167.514 616854.159, 218167.514 61...  \n",
      "3  POLYGON ((218167.514 614857.809, 218167.514 61...  \n",
      "4  POLYGON ((217775.435 616835.831, 217775.435 61...  \n"
     ]
    }
   ],
   "source": [
    "# pip install geopandas matplotlib pillow"
   ]
  },
  {
   "cell_type": "code",
   "execution_count": 11,
   "metadata": {},
   "outputs": [
    {
     "name": "stderr",
     "output_type": "stream",
     "text": [
      "100%|██████████| 3200/3200 [19:04<00:00,  2.79it/s]\n",
      " 87%|████████▋ | 11083/12800 [34:15<02:33, 11.19it/s]  "
     ]
    }
   ],
   "source": [
    "import os\n",
    "import geopandas as gpd\n",
    "import matplotlib.pyplot as plt\n",
    "from PIL import Image\n",
    "import io\n",
    "from tqdm import tqdm\n",
    "\n",
    "def process_json_file(json_file, output_folder):\n",
    "    # JSON 파일 불러오기\n",
    "    gdf = gpd.read_file(json_file)\n",
    "\n",
    "    # 이미지 크기 설정\n",
    "    image_size = (512, 512)\n",
    "\n",
    "    # 폴리곤을 하나의 이미지로 합치기\n",
    "    fig, ax = plt.subplots(figsize=(5, 5))\n",
    "    fig.patch.set_facecolor('white')  # 배경색을 흰색으로 설정\n",
    "\n",
    "    for idx, row in gdf.iterrows():\n",
    "        # 각 폴리곤을 'ANN_CD' 값에 따라 다른 그레이스케일 톤으로 채움\n",
    "        gray_value = row['ANN_CD']/gdf['ANN_CD'].max()\n",
    "        gdf[gdf.index == idx].plot(ax=ax, color=(gray_value, gray_value, gray_value))\n",
    "\n",
    "    # 축 제거 및 이미지 크기 조정\n",
    "    plt.axis('off')\n",
    "    plt.xlim(gdf.total_bounds[0], gdf.total_bounds[2])\n",
    "    plt.ylim(gdf.total_bounds[1], gdf.total_bounds[3])\n",
    "    ax.set_aspect('equal', adjustable='box')\n",
    "\n",
    "    # 이미지로 변환\n",
    "    buf = io.BytesIO()\n",
    "    plt.savefig(buf, format='png', bbox_inches='tight', pad_inches=0, facecolor=fig.get_facecolor(), edgecolor='none')\n",
    "    buf.seek(0)\n",
    "    img = Image.open(buf)\n",
    "    img = img.resize(image_size, Image.Resampling.LANCZOS)\n",
    "    buf.close()\n",
    "    plt.close(fig)\n",
    "\n",
    "    # 이미지 파일 이름 설정 (JSON 파일 이름 기반)\n",
    "    image_file_name = os.path.splitext(os.path.basename(json_file))[0] + '.png'\n",
    "    image_path = os.path.join(output_folder, image_file_name)\n",
    "\n",
    "    # 이미지 저장\n",
    "    img.save(image_path)\n",
    "\n",
    "# 폴더 경로 설정\n",
    "folder_path = [#'Dataset\\Training\\label\\AP10_City_Json','Dataset\\Training\\label\\AP10_Forest_Json','Dataset\\Training\\label\\SN10_Forest_Json'\n",
    "               'Dataset\\Training\\label\\AP25_City_Json','Dataset\\Training\\label\\AP25_Forest_Json',\n",
    "               'Dataset\\Validation\\label\\AP10_City_Json','Dataset\\Validation\\label\\AP10_Forest_Json','Dataset\\Validation\\label\\AP25_City_Json','Dataset\\Validation\\label\\AP25_Forest_Json','Dataset\\Validation\\label\\SN10_Forest_Json']\n",
    "for path in folder_path:\n",
    "    output_folder = path.replace('Json', 'GT')\n",
    "    # output_folder가 존재하지 않으면 생성\n",
    "    if not os.path.exists(output_folder):\n",
    "        os.makedirs(output_folder, exist_ok=True)\n",
    "    # 폴더 내의 모든 JSON 파일에 대해 작업 수행\n",
    "    for file in tqdm(os.listdir(path)):\n",
    "        if file.endswith('.json'):\n",
    "            json_file_path = os.path.join(path, file)\n",
    "            process_json_file(json_file_path, output_folder)\n"
   ]
  }
 ],
 "metadata": {
  "kernelspec": {
   "display_name": "transformer",
   "language": "python",
   "name": "python3"
  },
  "language_info": {
   "codemirror_mode": {
    "name": "ipython",
    "version": 3
   },
   "file_extension": ".py",
   "mimetype": "text/x-python",
   "name": "python",
   "nbconvert_exporter": "python",
   "pygments_lexer": "ipython3",
   "version": "3.11.4"
  }
 },
 "nbformat": 4,
 "nbformat_minor": 2
}
