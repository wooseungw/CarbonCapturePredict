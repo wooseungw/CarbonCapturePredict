{
 "cells": [
  {
   "cell_type": "code",
   "execution_count": 2,
   "metadata": {},
   "outputs": [],
   "source": [
    "# pip install geopandas matplotlib pillow"
   ]
  },
  {
   "cell_type": "code",
   "execution_count": 3,
   "metadata": {},
   "outputs": [],
   "source": [
    "# import os\n",
    "# import geopandas as gpd\n",
    "# import matplotlib.pyplot as plt\n",
    "# from PIL import Image\n",
    "# import io\n",
    "# from tqdm import tqdm\n",
    "\n",
    "# def process_json_file(json_file, output_folder):\n",
    "#     # JSON 파일 불러오기\n",
    "#     gdf = gpd.read_file(json_file)\n",
    "\n",
    "#     # 이미지 크기 설정\n",
    "#     image_size = (512, 512)\n",
    "\n",
    "#     # 폴리곤을 하나의 이미지로 합치기\n",
    "#     fig, ax = plt.subplots(figsize=(5, 5))\n",
    "#     fig.patch.set_facecolor('white')  # 배경색을 흰색으로 설정\n",
    "\n",
    "#     for idx, row in gdf.iterrows():\n",
    "#         # 각 폴리곤을 'ANN_CD' 값에 따라 다른 그레이스케일 톤으로 채움\n",
    "#         gray_value = row['ANN_CD'] / 255\n",
    "#         gdf[gdf.index == idx].plot(ax=ax, color=(gray_value, gray_value, gray_value))\n",
    "\n",
    "#     # 축 제거 및 이미지 크기 조정\n",
    "#     plt.axis('off')\n",
    "#     plt.xlim(gdf.total_bounds[0], gdf.total_bounds[2])\n",
    "#     plt.ylim(gdf.total_bounds[1], gdf.total_bounds[3])\n",
    "#     ax.set_aspect('equal', adjustable='box')\n",
    "\n",
    "#     # 이미지로 변환\n",
    "#     buf = io.BytesIO()\n",
    "#     plt.savefig(buf, format='png', bbox_inches='tight', pad_inches=0, facecolor=fig.get_facecolor(), edgecolor='none')\n",
    "#     buf.seek(0)\n",
    "#     img = Image.open(buf)\n",
    "#     img = img.resize(image_size, Image.Resampling.LANCZOS)\n",
    "#     buf.close()\n",
    "#     plt.close(fig)\n",
    "\n",
    "#     # 이미지 파일 이름 설정 (JSON 파일 이름 기반)\n",
    "#     image_file_name = os.path.splitext(os.path.basename(json_file))[0] + '.png'\n",
    "#     image_path = os.path.join(output_folder, image_file_name)\n",
    "\n",
    "#     # 이미지 저장\n",
    "#     img.save(image_path)"
   ]
  },
  {
   "cell_type": "code",
   "execution_count": 4,
   "metadata": {},
   "outputs": [],
   "source": [
    "import cv2\n",
    "import numpy as np\n",
    "import geopandas as gpd\n",
    "import os\n",
    "from tqdm import tqdm\n",
    "\n",
    "def process_json_file(json_file, output_folder, image_size = (512, 512)):\n",
    "    # JSON 파일 불러오기\n",
    "    gdf = gpd.read_file(json_file)\n",
    "    \n",
    "    # 이미지 크기 설정\n",
    "    \n",
    "    \n",
    "    # 빈 이미지 생성 (모든 픽셀을 흰색으로 설정)\n",
    "    img = np.ones((image_size[0], image_size[1], 3), dtype=np.uint8) * 255\n",
    "    \n",
    "    # 좌표 변환을 위한 최소, 최대 좌표 계산\n",
    "    x_min, y_min, x_max, y_max = gdf.total_bounds\n",
    "    x_range = x_max - x_min\n",
    "    y_range = y_max - y_min\n",
    "    \n",
    "    # 'ANN_CD' 필드의 최대값 설정\n",
    "    max_ann_cd = 255\n",
    "    class_mapping = {\n",
    "    210: 160,\n",
    "    220: 170,\n",
    "    230: 180\n",
    "    }\n",
    "\n",
    "    for idx, row in gdf.iterrows():\n",
    "        # 'ANN_CD' 값 변환\n",
    "        if row['ANN_CD'] in class_mapping:\n",
    "            ann_cd_transformed = class_mapping[row['ANN_CD']]\n",
    "        else:\n",
    "            ann_cd_transformed = row['ANN_CD']\n",
    "        # 각 폴리곤의 'ANN_CD' 값이 190을 초과하는 경우 190으로 설정\n",
    "        ann_cd = min(row['ANN_CD'], max_ann_cd)\n",
    "\n",
    "        color = (ann_cd, ann_cd, ann_cd)  # 그레이스케일\n",
    "        \n",
    "        # 폴리곤의 좌표를 이미지의 픽셀 좌표로 변환\n",
    "        coordinates = row.geometry.exterior.coords.xy\n",
    "        x_coordinates = (np.array(coordinates[0]) - x_min) / x_range * image_size[0]\n",
    "        y_coordinates = image_size[1] - (np.array(coordinates[1]) - y_min) / y_range * image_size[1]  # y축 방향 반전\n",
    "        polygon = np.array([list(zip(x_coordinates, y_coordinates))], dtype=np.int32)\n",
    "        \n",
    "        # 폴리곤의 영역을 그레이스케일 톤으로 채우기\n",
    "        cv2.fillPoly(img, polygon, color)\n",
    "    \n",
    "    # 이미지 파일 이름 설정 (JSON 파일 이름 기반)\n",
    "    image_file_name = os.path.splitext(os.path.basename(json_file))[0] + '.png'\n",
    "    image_path = os.path.join(output_folder, image_file_name)\n",
    "    \n",
    "    # 이미지 저장\n",
    "    cv2.imwrite(image_path, img)\n",
    "    \n",
    "    # # 이미지 화면에 표시\n",
    "    # cv2.imshow('Image', img)\n",
    "    # cv2.waitKey(0)\n",
    "    # cv2.destroyAllWindows()\n"
   ]
  },
  {
   "cell_type": "code",
   "execution_count": 8,
   "metadata": {},
   "outputs": [
    {
     "name": "stdout",
     "output_type": "stream",
     "text": [
      "Dataset\\Training\\label\\SN10_Forest_Json\n"
     ]
    },
    {
     "name": "stderr",
     "output_type": "stream",
     "text": [
      "100%|██████████| 800/800 [01:21<00:00,  9.83it/s]\n"
     ]
    },
    {
     "name": "stdout",
     "output_type": "stream",
     "text": [
      "Dataset\\Validation\\label\\SN10_Forest_Json\n"
     ]
    },
    {
     "name": "stderr",
     "output_type": "stream",
     "text": [
      "100%|██████████| 100/100 [00:10<00:00,  9.87it/s]\n"
     ]
    }
   ],
   "source": [
    "# 폴더 경로 설정\n",
    "folder_path = ['Dataset\\Training\\label\\AP10_City_Json','Dataset\\Training\\label\\AP10_Forest_Json','Dataset\\Training\\label\\SN10_Forest_Json','Dataset\\Training\\label\\AP25_City_Json','Dataset\\Training\\label\\AP25_Forest_Json',\n",
    "               'Dataset\\Validation\\label\\AP10_City_Json','Dataset\\Validation\\label\\AP10_Forest_Json','Dataset\\Validation\\label\\AP25_City_Json','Dataset\\Validation\\label\\AP25_Forest_Json','Dataset\\Validation\\label\\SN10_Forest_Json']\n",
    "for path in folder_path:\n",
    "    if path == 'Dataset\\Training\\label\\SN10_Forest_Json' or  path == 'Dataset\\Validation\\label\\SN10_Forest_Json' :\n",
    "        image_size = (256,256)\n",
    "    else:\n",
    "        image_size = (512,512)\n",
    "    print(path)\n",
    "    output_folder = path.replace('Json', 'GT')\n",
    "    # output_folder가 존재하지 않으면 생성\n",
    "    if not os.path.exists(output_folder):\n",
    "        os.makedirs(output_folder, exist_ok=True)\n",
    "    # 폴더 내의 모든 JSON 파일에 대해 작업 수행\n",
    "    for file in tqdm(os.listdir(path)):\n",
    "        if file.endswith('.json'):\n",
    "            json_file_path = os.path.join(path, file)\n",
    "            process_json_file(json_file_path, output_folder,image_size=image_size)\n"
   ]
  },
  {
   "cell_type": "code",
   "execution_count": 6,
   "metadata": {},
   "outputs": [
    {
     "name": "stdout",
     "output_type": "stream",
     "text": [
      "[[130 130 130 ... 140 140 140]\n",
      " [130 130 130 ... 140 140 140]\n",
      " [130 130 130 ... 140 140 140]\n",
      " ...\n",
      " [130 130 130 ... 140 140 140]\n",
      " [130 130 130 ... 140 140 140]\n",
      " [130 130 130 ... 140 140 140]]\n"
     ]
    }
   ],
   "source": [
    "import cv2\n",
    "image = cv2.imread(\"C:\\Workspace\\CarbonCapturePredict\\Dataset\\Validation\\label\\AP25_Forest_GT\\AP_25_37604057_0179.png\", cv2.IMREAD_GRAYSCALE)\n",
    "# 픽셀 값 확인\n",
    "print(image)\n"
   ]
  }
 ],
 "metadata": {
  "kernelspec": {
   "display_name": "transformer",
   "language": "python",
   "name": "python3"
  },
  "language_info": {
   "codemirror_mode": {
    "name": "ipython",
    "version": 3
   },
   "file_extension": ".py",
   "mimetype": "text/x-python",
   "name": "python",
   "nbconvert_exporter": "python",
   "pygments_lexer": "ipython3",
   "version": "3.11.4"
  }
 },
 "nbformat": 4,
 "nbformat_minor": 2
}
